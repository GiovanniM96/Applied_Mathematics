{
 "cells": [
  {
   "cell_type": "markdown",
   "id": "cc86f724-5bc4-4a8e-a9bc-44a3393f4a2d",
   "metadata": {},
   "source": [
    "# Coefficente binomiale"
   ]
  },
  {
   "cell_type": "markdown",
   "id": "7bdf8c5e-f698-4ed7-9307-2ff3923b475c",
   "metadata": {},
   "source": [
    "Supponiamo di avere un'azienda che produce tazze da caffè. La produzione di tazze comporta due fasi di lavorazione: la fabbricazione della tazza e la verniciatura. La fabbricazione della tazza ha una percentuale di successo del 95%, mentre la verniciatura ha una percentuale di successo del 90%.\n",
    "\n",
    "Vogliamo sapere la probabilità congiunta che una tazza sia fabbricata correttamente e che la verniciatura venga eseguita correttamente. Per calcolare questo, possiamo utilizzare il coefficiente binomiale.\n",
    "\n",
    "Supponiamo che X sia la variabile che indica se la tazza è stata fabbricata correttamente (X = 1) o se la fabbricazione è stata un insuccesso (X = 0), mentre Y è la variabile che indica se la verniciatura è stata eseguita correttamente (Y = 1) o se la verniciatura è stata un insuccesso (Y = 0).\n",
    "\n",
    "Allora, la funzione congiunta di probabilità può essere calcolata come segue:"
   ]
  },
  {
   "cell_type": "code",
   "execution_count": 7,
   "id": "7540b90c-df7e-4ca2-bea7-cfb149060cde",
   "metadata": {},
   "outputs": [
    {
     "name": "stdout",
     "output_type": "stream",
     "text": [
      "1.0\n"
     ]
    }
   ],
   "source": [
    "import math\n",
    "\n",
    "def C(n, k): #binomial_coefficient\n",
    "  return math.comb(n, k)\n",
    "\n",
    "prob_x_y = (C(1, 1) * C(1, 1)) / C(2, 2)\n",
    "print(prob_x_y)"
   ]
  },
  {
   "cell_type": "markdown",
   "id": "c41fc4b8-d6f1-4be7-8a8c-5a75418368a2",
   "metadata": {},
   "source": [
    "Il coefficiente binomiale C(n, k) calcola il numero di modi in cui puoi scegliere k successi da n tentativi possibili. In questo caso, C(1, 1) indica il numero di modi in cui puoi avere un successo (la tazza viene fabbricata correttamente o la verniciatura viene eseguita correttamente) da un solo tentativo. C(2, 2) indica il numero di modi in cui puoi avere due successi da due tentativi.\n",
    "\n",
    "La probabilità congiunta di ottenere entrambi i successi è il prodotto delle probabilità individuali (0.95 per la fabbricazione e 0.9 per la verniciatura) diviso il numero di modi in cui si possono ottenere entrambi i successi o almeno un successo."
   ]
  },
  {
   "cell_type": "markdown",
   "id": "526df9bf-1308-42f3-a24b-47a13c3e06dc",
   "metadata": {},
   "source": [
    "## Calcolare la probabilità congiunta di successo nella produzione di tazze da caffè utilizzando il coefficiente binomiale"
   ]
  },
  {
   "cell_type": "code",
   "execution_count": 11,
   "id": "047617a1-0b7c-4103-a28a-f0ed952b20a9",
   "metadata": {},
   "outputs": [
    {
     "name": "stdout",
     "output_type": "stream",
     "text": [
      "La probabilità congiunta di ottenere entrambi i successi è: 0.8592964824120602\n"
     ]
    }
   ],
   "source": [
    "from math import comb\n",
    "\n",
    "def probability_of_success(p1, p2):\n",
    "    # Calcola il prodotto delle probabilità individuali\n",
    "    individual_prob = p1 * p2\n",
    "    \n",
    "    # Calcola il numero di modi in cui si possono ottenere entrambi i successi o almeno un successo\n",
    "    both_or_at_least_one_success = 1 - (1 - p1) * (1 - p2)\n",
    "    \n",
    "    # Calcola la probabilità congiunta di ottenere entrambi i successi\n",
    "    joint_prob = individual_prob / both_or_at_least_one_success  # La probabilità di ottenere entrambi i successi o almeno un successo è 1 meno la probabilità di ottenere almeno un insuccesso.\n",
    "    \n",
    "    return joint_prob\n",
    "\n",
    "p1 = 0.95 # probabilità di successo per la fabbricazione della tazza\n",
    "p2 = 0.9 # probabilità di successo per la verniciatura\n",
    "\n",
    "joint_prob = probability_of_success(p1, p2)\n",
    "print(\"La probabilità congiunta di ottenere entrambi i successi è:\", joint_prob)\n"
   ]
  },
  {
   "cell_type": "markdown",
   "id": "215a9b47-c4d1-43dd-b54e-943ab1afe476",
   "metadata": {},
   "source": [
    "In questo caso, p1 rappresenta la probabilità di successo per la fabbricazione della tazza (95%) e p2 rappresenta la probabilità di successo per la verniciatura (90%). La funzione probability_of_success calcola la probabilità congiunta di ottenere entrambi i successi utilizzando la formula:\n",
    "\n",
    "P(X = 1, Y = 1) = (C(1, 1) * C(1, 1)) / C(2, 2) = p1 * p2 / (p1 * p2 + (1 - p1) * (1 - p2))\n",
    "\n",
    "dove C(n, k) è il coefficiente binomiale."
   ]
  },
  {
   "cell_type": "code",
   "execution_count": null,
   "id": "aa1f81a3-b149-424e-9f9a-fd6f72a55e74",
   "metadata": {},
   "outputs": [],
   "source": []
  }
 ],
 "metadata": {
  "kernelspec": {
   "display_name": "Python 3 (ipykernel)",
   "language": "python",
   "name": "python3"
  },
  "language_info": {
   "codemirror_mode": {
    "name": "ipython",
    "version": 3
   },
   "file_extension": ".py",
   "mimetype": "text/x-python",
   "name": "python",
   "nbconvert_exporter": "python",
   "pygments_lexer": "ipython3",
   "version": "3.9.7"
  }
 },
 "nbformat": 4,
 "nbformat_minor": 5
}
