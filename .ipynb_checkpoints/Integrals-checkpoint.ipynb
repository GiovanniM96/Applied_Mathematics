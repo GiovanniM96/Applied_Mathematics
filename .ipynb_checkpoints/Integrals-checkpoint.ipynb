{
 "cells": [
  {
   "cell_type": "markdown",
   "id": "8b122116-17a1-44cf-ab87-73c8db6fd21b",
   "metadata": {},
   "source": [
    "# Integrali con Sympy"
   ]
  },
  {
   "cell_type": "markdown",
   "id": "9e3453ed-3ab1-40ab-9c9b-209082499249",
   "metadata": {},
   "source": [
    " sympy è un'ottima libreria per la risoluzione di integrali e funzioni congiunte. Ecco un esempio di come calcolare l'integrale di una funzione congiunta con due variabili utilizzando SymPy:"
   ]
  },
  {
   "cell_type": "code",
   "execution_count": 18,
   "id": "cbe3aeda-5460-4490-8780-211bd6cbc201",
   "metadata": {},
   "outputs": [
    {
     "name": "stdout",
     "output_type": "stream",
     "text": [
      "L'integrale della funzione congiunta è: k*y c/2 k/2 c*x\n"
     ]
    }
   ],
   "source": [
    "import sympy\n",
    "\n",
    "# Definiamo le variabili\n",
    "x, y = sympy.symbols('x y')\n",
    "\n",
    "# Definiamo la funzione congiunta\n",
    "f_sx = k*y\n",
    "f_dx = c*x\n",
    "\n",
    "# Definiamo i limiti di integrazione per x e y\n",
    "x_lim_sx = [0, 1]\n",
    "y_lim_sx = [0, 1]\n",
    "\n",
    "x_lim_dx = [0, 1]\n",
    "y_lim_dx = [1, 2]\n",
    "\n",
    "# Calcoliamo l'integrale della funzione congiunta sui limiti specificati\n",
    "integrale_fy_a = sympy.integrate(f_sx, (x, x_lim_sx[0], x_lim_sx[1]))\n",
    "integrale_fy_b = sympy.integrate(f_dx, (x, x_lim_dx[0], x_lim_dx[1]))\n",
    "integrale_fx_a = sympy.integrate(f_sx, (y, y_lim_sx[0], y_lim_sx[1]))\n",
    "integrale_fx_b = sympy.integrate(f_dx, (y, y_lim_dx[0], y_lim_dx[1]))\n",
    "\n",
    "# Stampa il risultato\n",
    "print(\"L'integrale della funzione congiunta è:\", integrale_fy_a, integrale_fy_b, integrale_fx_a, integrale_fx_b)\n"
   ]
  },
  {
   "cell_type": "code",
   "execution_count": 20,
   "id": "e1e67fdf-e080-49f0-a5d8-903630513abc",
   "metadata": {},
   "outputs": [
    {
     "name": "stdout",
     "output_type": "stream",
     "text": [
      "L'integrale della funzione congiunta è: k/3 3*c/4 k/4 c/3\n"
     ]
    }
   ],
   "source": [
    "E_Y_sx = sympy.integrate(integrale_fy_a*y, (y, y_lim_sx[0], y_lim_sx[1]))\n",
    "E_Y_dx = sympy.integrate(integrale_fy_b*y, (y, y_lim_dx[0], y_lim_dx[1]))\n",
    "E_X_sx = sympy.integrate(integrale_fx_a*x, (x, x_lim_sx[0], x_lim_sx[1]))\n",
    "E_X_dx = sympy.integrate(integrale_fx_b*x, (x, x_lim_dx[0], x_lim_dx[1]))\n",
    "\n",
    "print(\"L'integrale della funzione congiunta è:\", E_Y_sx, E_Y_dx, E_X_sx, E_X_dx)"
   ]
  },
  {
   "cell_type": "code",
   "execution_count": 21,
   "id": "1405d725-444b-4245-826c-b607246381fb",
   "metadata": {},
   "outputs": [
    {
     "name": "stdout",
     "output_type": "stream",
     "text": [
      "L'integrale della funzione congiunta è: k/2 c/2\n"
     ]
    }
   ],
   "source": [
    "integrale_totale_sx = sympy.integrate(f_sx, (x, x_lim_sx[0], x_lim_sx[1]), (y, y_lim_sx[0], y_lim_sx[1]))\n",
    "integrale_totale_dx = sympy.integrate(f_dx, (x, x_lim_dx[0], x_lim_dx[1]), (y, y_lim_dx[0], y_lim_dx[1]))\n",
    "\n",
    "print(\"L'integrale della funzione congiunta è:\", integrale_totale_sx, integrale_totale_dx)"
   ]
  },
  {
   "cell_type": "markdown",
   "id": "f035d193-7e9e-461a-b92c-2c4b3a327354",
   "metadata": {},
   "source": [
    "# esercizio"
   ]
  },
  {
   "cell_type": "code",
   "execution_count": 32,
   "id": "5f55bad4-bcdf-485d-8f70-4934ff9342c2",
   "metadata": {},
   "outputs": [
    {
     "name": "stdout",
     "output_type": "stream",
     "text": [
      "L'integrale della funzione congiunta è: Integral(2.71828182845905**(y*(l + 1))*y, (y, 0, oo))\n"
     ]
    }
   ],
   "source": [
    "import sympy\n",
    "from math import e\n",
    "\n",
    "# Definiamo le variabili\n",
    "y, l, r = sympy.symbols('y l r')\n",
    "\n",
    "# Definiamo la funzione congiunta\n",
    "f_y = y*e**(y*(l+1))\n",
    "\n",
    "# Definiamo i limiti di integrazione per x e y\n",
    "x_lim = [0, sympy.oo ] #Il simbolo dell'infinito è sp.oo.\n",
    "\n",
    "# Calcoliamo l'integrale della funzione congiunta sui limiti specificati\n",
    "integrale_E_Y = sympy.integrate(f_y, (y, x_lim[0], x_lim[1]))\n",
    "\n",
    "# Stampa il risultato\n",
    "print(\"L'integrale della funzione congiunta è:\", integrale_E_Y)\n"
   ]
  },
  {
   "cell_type": "code",
   "execution_count": null,
   "id": "ed534e00-a48f-4c3f-8054-a61bc6d302f8",
   "metadata": {},
   "outputs": [],
   "source": []
  }
 ],
 "metadata": {
  "kernelspec": {
   "display_name": "Python 3 (ipykernel)",
   "language": "python",
   "name": "python3"
  },
  "language_info": {
   "codemirror_mode": {
    "name": "ipython",
    "version": 3
   },
   "file_extension": ".py",
   "mimetype": "text/x-python",
   "name": "python",
   "nbconvert_exporter": "python",
   "pygments_lexer": "ipython3",
   "version": "3.9.7"
  }
 },
 "nbformat": 4,
 "nbformat_minor": 5
}
