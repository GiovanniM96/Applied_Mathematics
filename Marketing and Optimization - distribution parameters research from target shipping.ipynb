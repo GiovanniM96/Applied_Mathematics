{
 "cells": [
  {
   "cell_type": "markdown",
   "id": "d67841a5-d1eb-4204-badb-0483eb03db19",
   "metadata": {},
   "source": [
    "# Marketing and Optimization - distribution parameters research from target shipping"
   ]
  },
  {
   "cell_type": "markdown",
   "id": "b9f6d5dd-8d4a-4e7d-8be4-7f4f168fb649",
   "metadata": {},
   "source": [
    "Nel marketing, l'analisi della distribuzione del tempo di permanenza dei clienti in un negozio o il tempo trascorso tra le visite successive potrebbe essere risolto utilizzando la distribuzione esponenziale. Allo stesso modo, il numero di acquisti effettuati da un cliente in un determinato periodo di tempo può essere modellato utilizzando la distribuzione di Poisson. La combinazione di questi due modelli potrebbe essere utilizzata per stimare il tempo totale che un cliente passerà nel negozio e il numero totale di acquisti effettuati durante la visita. Queste informazioni possono essere utilizzate per ottimizzare l'esperienza del cliente e la gestione delle scorte del negozio."
   ]
  },
  {
   "cell_type": "markdown",
   "id": "31b180fa-d5bd-4061-bd36-e97bd6c62c04",
   "metadata": {},
   "source": [
    "Ecco un esempio di codice per risolvere un problema di marketing con la libreria Scipy in Python:"
   ]
  },
  {
   "cell_type": "code",
   "execution_count": 1,
   "id": "9e6f7c84-58c7-4754-a36f-23412f379fa0",
   "metadata": {},
   "outputs": [
    {
     "name": "stdout",
     "output_type": "stream",
     "text": [
      "λ = 0.500, μ = 1.000\n"
     ]
    }
   ],
   "source": [
    "import numpy as np\n",
    "from scipy.optimize import fsolve\n",
    "\n",
    "# Define the target values\n",
    "target_mean = 3\n",
    "target_variance = 5\n",
    "\n",
    "# Define the system of equations to solve\n",
    "def system(p):\n",
    "    λ, μ = p\n",
    "    mean = 1 / λ + μ\n",
    "    variance = 1 / λ ** 2 + μ\n",
    "    return (mean - target_mean, variance - target_variance)\n",
    "\n",
    "# Initial guess for the parameters\n",
    "p0 = (1, 1)\n",
    "\n",
    "# Solve the system of equations using fsolve\n",
    "sol = fsolve(system, p0)\n",
    "\n",
    "# Extract the values of λ and μ from the solution\n",
    "λ, μ = sol\n",
    "\n",
    "# Print the results\n",
    "print(f\"λ = {λ:.3f}, μ = {μ:.3f}\")\n"
   ]
  },
  {
   "cell_type": "markdown",
   "id": "aee9597f-d766-4c8d-9f9e-b85b9253f50a",
   "metadata": {},
   "source": [
    "Questo codice utilizza la funzione fsolve della libreria Scipy per risolvere un sistema di equazioni non lineari. La funzione system definisce il sistema di equazioni che descrivono il comportamento delle variabili aleatorie X ed Y in base ai valori di λ e μ. Il sistema di equazioni è risolto per trovare i valori di λ e μ che soddisfano i requisiti di target_mean e target_variance."
   ]
  },
  {
   "cell_type": "markdown",
   "id": "ba74f7da-e05a-454b-90e8-b3ea9916d5f7",
   "metadata": {},
   "source": [
    "target_mean e target_variance sono due valori che rappresentano il valore atteso e la varianza target, cioè i valori che si vogliono ottenere come risultato del modello. Questi valori possono essere stabiliti in base ai dati storici o a obiettivi aziendali specifici. Ad esempio, in un'analisi di marketing, potrebbe essere necessario stabilire un target per il numero medio di acquisti effettuati dai clienti in un determinato periodo di tempo, e un target per la varianza del numero di acquisti, che indica la dispersione dei dati. Questi valori possono quindi essere utilizzati come input per la soluzione del sistema di equazioni che descrive il modello di marketing."
   ]
  },
  {
   "cell_type": "code",
   "execution_count": null,
   "id": "ca259401-a6c8-4c8e-980d-79f4ca575cdc",
   "metadata": {},
   "outputs": [],
   "source": []
  }
 ],
 "metadata": {
  "kernelspec": {
   "display_name": "Python 3 (ipykernel)",
   "language": "python",
   "name": "python3"
  },
  "language_info": {
   "codemirror_mode": {
    "name": "ipython",
    "version": 3
   },
   "file_extension": ".py",
   "mimetype": "text/x-python",
   "name": "python",
   "nbconvert_exporter": "python",
   "pygments_lexer": "ipython3",
   "version": "3.9.7"
  }
 },
 "nbformat": 4,
 "nbformat_minor": 5
}
