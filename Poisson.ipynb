{
 "cells": [
  {
   "cell_type": "markdown",
   "id": "69a34071-3efe-481d-841e-c10070ac428a",
   "metadata": {},
   "source": [
    "# Poisson"
   ]
  },
  {
   "cell_type": "markdown",
   "id": "ce488657-8571-4b4c-be51-e494abf773c2",
   "metadata": {},
   "source": [
    "Supponiamo che un perito chimico ingegnere gestionale full stack developer data scientist stia lavorando per un'azienda chimica che produce e vende detergenti per la casa. La loro produzione è soggetta a processi di produzione casuali che possono generare difetti. Il perito chimico ingegnere gestionale full stack developer data scientist vuole prevedere il numero di difetti che si verificheranno durante la produzione utilizzando un modello basato sulla distribuzione di Poisson.\n",
    "\n",
    "L'obiettivo è quello di creare un API che preveda il numero di difetti per ogni run di produzione. L'API utilizzerà la distribuzione di Poisson per calcolare la probabilità che un determinato numero di difetti si verifichi durante una produzione. Ecco un esempio di codice Python per questo scopo:"
   ]
  },
  {
   "cell_type": "code",
   "execution_count": 2,
   "id": "915d4b67-42ab-4865-868d-23fa516f0949",
   "metadata": {},
   "outputs": [
    {
     "name": "stdout",
     "output_type": "stream",
     "text": [
      "[5 2 3 4 4 4 5 6 4 4]\n"
     ]
    }
   ],
   "source": [
    "import numpy as np\n",
    "\n",
    "def predict_defects(mean_defects, num_runs):\n",
    "    \"\"\"\n",
    "    La funzione predict_defects prevede il numero di difetti che si verificheranno durante una serie di run di produzione.\n",
    "\n",
    "    Args:\n",
    "    mean_defects: media dei difetti che si verificano durante una run di produzione\n",
    "    num_runs: numero di run di produzione per cui si prevedono i difetti\n",
    "\n",
    "    Returns:\n",
    "    Una lista con il numero di difetti previsti per ogni run di produzione.\n",
    "    \"\"\"\n",
    "    return np.random.poisson(mean_defects, num_runs)\n",
    "\n",
    "mean_defects = 5\n",
    "num_runs = 10\n",
    "\n",
    "defects = predict_defects(mean_defects, num_runs)\n",
    "print(defects)\n"
   ]
  },
  {
   "cell_type": "markdown",
   "id": "912aa4ea-1e86-408d-afd1-fca6fab5aab4",
   "metadata": {},
   "source": [
    "In questo esempio, l'API utilizza la distribuzione di Poisson per prevedere il numero di difetti che si verificheranno durante una serie di run di produzione. La media dei difetti che si verificano durante una run di produzione viene passata come argomento alla funzione, mentre il numero di run di produzione per cui si prevedono i difetti viene passato come un altro argomento. La funzione restituisce quindi una lista con il numero di difetti previsti per ogni run di produzione. Questo può essere utile per i periti chimici ingegneri gestionali full stack developer data scientist per monitorare la qualità della produzione e prendere decisioni informate su come migliorare la stessa."
   ]
  },
  {
   "cell_type": "code",
   "execution_count": null,
   "id": "a89be381-494f-42f9-8a76-923e5e47aeb2",
   "metadata": {},
   "outputs": [],
   "source": []
  }
 ],
 "metadata": {
  "kernelspec": {
   "display_name": "Python 3 (ipykernel)",
   "language": "python",
   "name": "python3"
  },
  "language_info": {
   "codemirror_mode": {
    "name": "ipython",
    "version": 3
   },
   "file_extension": ".py",
   "mimetype": "text/x-python",
   "name": "python",
   "nbconvert_exporter": "python",
   "pygments_lexer": "ipython3",
   "version": "3.9.7"
  }
 },
 "nbformat": 4,
 "nbformat_minor": 5
}
