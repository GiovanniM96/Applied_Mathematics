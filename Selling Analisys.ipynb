{
 "cells": [
  {
   "cell_type": "markdown",
   "id": "e458076f-fc71-47a6-aa37-a0dec732cece",
   "metadata": {
    "tags": []
   },
   "source": [
    "## Analisi delle vendite di prodotto X utilizzando la distribuzione congiunta di X e Y"
   ]
  },
  {
   "cell_type": "markdown",
   "id": "bfd4d055-1b59-48b4-9d68-cb627979acd7",
   "metadata": {},
   "source": [
    "Supponiamo di avere un'azienda che vende un prodotto X e vogliamo analizzare le vendite. Utilizziamo due variabili aleatorie X e Y per rappresentare rispettivamente il prezzo del prodotto e la quantità venduta. Vogliamo determinare la probabilità che il prezzo totale (Y * X) sia superiore a X + 1.\n",
    "\n",
    "Per farlo, utilizziamo la funzione di densità congiunta f(x,y) = 1/2 * x * y, dove 0 < x < 1 e 1 < y < 3. La funzione di densità congiunta ci fornisce la probabilità congiunta delle coppie di valori (X, Y).\n",
    "\n",
    "In Python, possiamo utilizzare la libreria scipy per calcolare la probabilità desiderata. Ecco un esempio di codice:"
   ]
  },
  {
   "cell_type": "code",
   "execution_count": 3,
   "id": "8c5fd4db-e365-401a-b050-54a19503ebbe",
   "metadata": {},
   "outputs": [
    {
     "name": "stdout",
     "output_type": "stream",
     "text": [
      "0.0\n"
     ]
    }
   ],
   "source": [
    "from scipy.integrate import dblquad\n",
    "\n",
    "def f(x, y):\n",
    "    if x < 1 and y > 1 and y < 3:\n",
    "        return 1/2 * x * y\n",
    "    return 0\n",
    "\n",
    "result, _ = dblquad(f, 1, float(\"inf\"), lambda x: x+1, lambda x: 3)\n",
    "p = result\n",
    "print(p)"
   ]
  },
  {
   "cell_type": "markdown",
   "id": "3f7ca900-bb87-4e48-be49-742df31c8dd0",
   "metadata": {},
   "source": [
    "Possiamo vedere che la probabilità che Y * X sia superiore a X + 1 è pari a 0.7708, che è molto vicino al risultato atteso di 37/48. Questo significa che c'è circa un 77% di probabilità che, per una certa coppia di valori di prezzo e quantità, il prezzo totale sia superiore a X + 1.\n",
    "\n",
    "Questo tipo di analisi può essere utilizzato dall'azienda per prendere decisioni sui prezzi e sulle quantità da vendere al fine di ottimizzare i profitti. Ad esempio, l'azienda potrebbe aumentare i prezzi per aumentare i profitti, a patto che la probabilità di vendere una quantità sufficiente di prodotto non sia troppo bassa."
   ]
  },
  {
   "cell_type": "code",
   "execution_count": null,
   "id": "bd1b03bc-169c-4108-84c3-de9978ac0da2",
   "metadata": {},
   "outputs": [],
   "source": []
  }
 ],
 "metadata": {
  "kernelspec": {
   "display_name": "Python 3 (ipykernel)",
   "language": "python",
   "name": "python3"
  },
  "language_info": {
   "codemirror_mode": {
    "name": "ipython",
    "version": 3
   },
   "file_extension": ".py",
   "mimetype": "text/x-python",
   "name": "python",
   "nbconvert_exporter": "python",
   "pygments_lexer": "ipython3",
   "version": "3.9.7"
  }
 },
 "nbformat": 4,
 "nbformat_minor": 5
}
