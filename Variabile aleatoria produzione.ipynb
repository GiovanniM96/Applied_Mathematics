{
 "cells": [
  {
   "cell_type": "markdown",
   "id": "889b0ccb-f08f-4eda-b2dc-03fcb5d42b9f",
   "metadata": {},
   "source": [
    "# Variabile aleatoria produzione"
   ]
  },
  {
   "cell_type": "markdown",
   "id": "b961a914-4e71-49e1-984a-d69bccc5318e",
   "metadata": {},
   "source": [
    "## Analisi delle prestazioni di un processo produttivo: determinazione della funzione di densità della durata del processo"
   ]
  },
  {
   "cell_type": "markdown",
   "id": "38a9ca27-fa7f-4bdc-99f2-c4253ec3638f",
   "metadata": {},
   "source": [
    "Supponiamo di avere un'azienda che produce articoli per il tempo libero. Questi articoli hanno una durata di vita media X, che può essere descritta come una variabile aleatoria con funzione di densità data dalla formula sopra.\n",
    "\n",
    "Vogliamo sapere quanto tempo, in media, un utente impiega per sostituire l'articolo, ovvero quanto tempo Y trascorre dall'acquisto dell'articolo alla sua sostituzione. Per calcolare questo, possiamo utilizzare la funzione di densità della variabile aleatoria Y = ln(X/r).\n",
    "\n",
    "Il codice Python per calcolare questa funzione di densità è il seguente:"
   ]
  },
  {
   "cell_type": "code",
   "execution_count": 1,
   "id": "bf778d7d-c616-44c6-bdf4-9a2fbf1ab322",
   "metadata": {},
   "outputs": [
    {
     "data": {
      "image/png": "[encoded data removed]",
      "text/plain": [
       "<Figure size 432x288 with 1 Axes>"
      ]
     },
     "metadata": {
      "needs_background": "light"
     },
     "output_type": "display_data"
    }
   ],
   "source": [
    "import numpy as np\n",
    "import matplotlib.pyplot as plt\n",
    "\n",
    "def f_x(x, r, lam):\n",
    "    if x > r:\n",
    "        return lam * np.power(r, lam) * np.power(x, -lam - 1)\n",
    "    else:\n",
    "        return 0\n",
    "\n",
    "def f_y(y, r, lam):\n",
    "    x = np.exp(y) * r\n",
    "    return f_x(x, r, lam) / (r * np.exp(y))\n",
    "\n",
    "r = 1\n",
    "lam = 1\n",
    "\n",
    "x_vals = np.linspace(0, 10, 100)\n",
    "y_vals = np.linspace(0, np.log(10), 100)\n",
    "\n",
    "f_x_vals = [f_x(x, r, lam) for x in x_vals]\n",
    "f_y_vals = [f_y(y, r, lam) for y in y_vals]\n",
    "\n",
    "plt.plot(x_vals, f_x_vals, label='f(x)')\n",
    "plt.plot(np.exp(y_vals) * r, f_y_vals, label='f(y)')\n",
    "plt.legend()\n",
    "plt.show()\n"
   ]
  },
  {
   "cell_type": "code",
   "execution_count": null,
   "id": "f59d11c0-7443-4420-af3d-0239640bd450",
   "metadata": {},
   "outputs": [],
   "source": []
  }
 ],
 "metadata": {
  "kernelspec": {
   "display_name": "Python 3 (ipykernel)",
   "language": "python",
   "name": "python3"
  },
  "language_info": {
   "codemirror_mode": {
    "name": "ipython",
    "version": 3
   },
   "file_extension": ".py",
   "mimetype": "text/x-python",
   "name": "python",
   "nbconvert_exporter": "python",
   "pygments_lexer": "ipython3",
   "version": "3.9.7"
  }
 },
 "nbformat": 4,
 "nbformat_minor": 5
}
